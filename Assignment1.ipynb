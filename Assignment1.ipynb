{
 "cells": [
  {
   "cell_type": "code",
   "execution_count": 19,
   "id": "67c29e8d-fd02-4bea-b337-31f06d0df737",
   "metadata": {},
   "outputs": [],
   "source": [
    "A=\"Roshan\""
   ]
  },
  {
   "cell_type": "code",
   "execution_count": 11,
   "id": "d9ac384e-8410-4a6d-be05-ddcb35a3a9d1",
   "metadata": {},
   "outputs": [
    {
     "data": {
      "text/plain": [
       "str"
      ]
     },
     "execution_count": 11,
     "metadata": {},
     "output_type": "execute_result"
    }
   ],
   "source": [
    "type(A)"
   ]
  },
  {
   "cell_type": "code",
   "execution_count": 5,
   "id": "6b60fa08-8a44-4d0d-8b32-65a04e9aa0a6",
   "metadata": {},
   "outputs": [],
   "source": [
    "l=[1,5,6,4,9,8,7,2,'Rahul']"
   ]
  },
  {
   "cell_type": "code",
   "execution_count": 7,
   "id": "3948d8be-5b00-4fee-9f29-e3513d63e657",
   "metadata": {},
   "outputs": [
    {
     "data": {
      "text/plain": [
       "list"
      ]
     },
     "execution_count": 7,
     "metadata": {},
     "output_type": "execute_result"
    }
   ],
   "source": [
    "type(l)"
   ]
  },
  {
   "cell_type": "code",
   "execution_count": 8,
   "id": "5068c256-126b-410c-a190-68907774ad16",
   "metadata": {},
   "outputs": [],
   "source": [
    "k=10.2"
   ]
  },
  {
   "cell_type": "code",
   "execution_count": 10,
   "id": "ca159e8c-11c1-45e1-b7fe-e97fabd93b79",
   "metadata": {},
   "outputs": [
    {
     "data": {
      "text/plain": [
       "float"
      ]
     },
     "execution_count": 10,
     "metadata": {},
     "output_type": "execute_result"
    }
   ],
   "source": [
    "type(k)"
   ]
  },
  {
   "cell_type": "code",
   "execution_count": 13,
   "id": "2c869469-64ae-4152-8897-d7e21a401485",
   "metadata": {},
   "outputs": [],
   "source": [
    "T=(1,'Data Science','ML')"
   ]
  },
  {
   "cell_type": "code",
   "execution_count": 15,
   "id": "52afd948-f490-4f0b-b9aa-8823bf186ca6",
   "metadata": {},
   "outputs": [
    {
     "data": {
      "text/plain": [
       "tuple"
      ]
     },
     "execution_count": 15,
     "metadata": {},
     "output_type": "execute_result"
    }
   ],
   "source": [
    "type(T)"
   ]
  },
  {
   "cell_type": "code",
   "execution_count": 16,
   "id": "7d6a2cfc-cf75-40ae-817c-282020a32893",
   "metadata": {},
   "outputs": [],
   "source": [
    "#Q.2 GIVEN ARE SOME VARIABLES CONTAINING DATA:"
   ]
  },
  {
   "cell_type": "code",
   "execution_count": 17,
   "id": "e41492da-3ce6-4472-9614-6bbbc11abfe0",
   "metadata": {},
   "outputs": [],
   "source": [
    "var1=''"
   ]
  },
  {
   "cell_type": "code",
   "execution_count": 19,
   "id": "1c8266a0-c0ed-4155-bd27-de74290cfbad",
   "metadata": {},
   "outputs": [
    {
     "data": {
      "text/plain": [
       "str"
      ]
     },
     "execution_count": 19,
     "metadata": {},
     "output_type": "execute_result"
    }
   ],
   "source": [
    "type(var1)"
   ]
  },
  {
   "cell_type": "code",
   "execution_count": 2,
   "id": "e0493cf1-8f3a-4b50-ab68-cfcaf5a400ee",
   "metadata": {},
   "outputs": [],
   "source": [
    "var2='[DS,ML,Python]'"
   ]
  },
  {
   "cell_type": "code",
   "execution_count": 4,
   "id": "bf31f15a-f03b-4b28-b8eb-7160be5827f8",
   "metadata": {},
   "outputs": [
    {
     "data": {
      "text/plain": [
       "str"
      ]
     },
     "execution_count": 4,
     "metadata": {},
     "output_type": "execute_result"
    }
   ],
   "source": [
    "type(var2)"
   ]
  },
  {
   "cell_type": "code",
   "execution_count": 5,
   "id": "d20bf902-a32e-4819-95ca-f56e337a10e6",
   "metadata": {},
   "outputs": [],
   "source": [
    "var3=['DS','ML','Python']"
   ]
  },
  {
   "cell_type": "code",
   "execution_count": 7,
   "id": "856d3067-416b-4f86-bd9c-22ba87f5f621",
   "metadata": {},
   "outputs": [
    {
     "data": {
      "text/plain": [
       "list"
      ]
     },
     "execution_count": 7,
     "metadata": {},
     "output_type": "execute_result"
    }
   ],
   "source": [
    "type(var3)"
   ]
  },
  {
   "cell_type": "code",
   "execution_count": 8,
   "id": "8ef608e8-9620-462c-8662-c713a7f42731",
   "metadata": {},
   "outputs": [],
   "source": [
    "var4=1."
   ]
  },
  {
   "cell_type": "code",
   "execution_count": 10,
   "id": "ec60f8e8-3118-4704-aa10-bb58a867e5e5",
   "metadata": {},
   "outputs": [
    {
     "data": {
      "text/plain": [
       "float"
      ]
     },
     "execution_count": 10,
     "metadata": {},
     "output_type": "execute_result"
    }
   ],
   "source": [
    "type(var4)"
   ]
  },
  {
   "cell_type": "code",
   "execution_count": 11,
   "id": "d4bf45d3-94b3-4e02-9dc7-584a23164b69",
   "metadata": {},
   "outputs": [],
   "source": [
    "#Q.3 EXPLAIN THE USE OF THE FOLLOWING OPERATOR USING AN EXAMPLE"
   ]
  },
  {
   "cell_type": "code",
   "execution_count": 15,
   "id": "b22dc678-f4cb-47cb-b84b-c2734e9bbe04",
   "metadata": {},
   "outputs": [],
   "source": [
    "#(i) / : Division Operator allows us to divide two numbers and return a quotient."
   ]
  },
  {
   "cell_type": "code",
   "execution_count": 16,
   "id": "132267b9-0afd-4067-8f75-7af3e1f19084",
   "metadata": {},
   "outputs": [],
   "source": [
    "#(ii) % : Modulus Operator is use to find out the remainder."
   ]
  },
  {
   "cell_type": "code",
   "execution_count": 20,
   "id": "c8e321f0-2c26-4163-89cc-f767db3e24e5",
   "metadata": {},
   "outputs": [],
   "source": [
    "#(iii) // : Division floor divides the first operand by the second."
   ]
  },
  {
   "cell_type": "code",
   "execution_count": 22,
   "id": "8541ce33-0434-47cb-b540-08f1a7daacae",
   "metadata": {},
   "outputs": [],
   "source": [
    "#(iv) ** :Exponent(Power) OPerator Returns first raised to power second."
   ]
  },
  {
   "cell_type": "code",
   "execution_count": 23,
   "id": "199bd2e2-785a-46f6-9b11-74fe0db0269c",
   "metadata": {},
   "outputs": [],
   "source": [
    "#Q.4 CREATE A LIST OF LENGHTH 10 OF YOUR CHOICE CONTAINING MULTIPLE TYPES OF DATA USING FOR LOOP PRINT THE ELEMENTS AND ITS DATA TYPE? "
   ]
  },
  {
   "cell_type": "code",
   "execution_count": 10,
   "id": "6e90e2cc-4765-48c6-bd05-7203b7b3f224",
   "metadata": {},
   "outputs": [],
   "source": [
    "l=[1,2,3,4,5,'Roshan',23.5,True,\"Lion\"]"
   ]
  },
  {
   "cell_type": "code",
   "execution_count": 12,
   "id": "1f6d5d75-c650-4c4c-b1c0-c98f8cc307c4",
   "metadata": {},
   "outputs": [
    {
     "name": "stdout",
     "output_type": "stream",
     "text": [
      "<class 'int'>\n",
      "<class 'int'>\n",
      "<class 'int'>\n",
      "<class 'int'>\n",
      "<class 'int'>\n",
      "<class 'str'>\n",
      "<class 'float'>\n",
      "<class 'bool'>\n",
      "<class 'str'>\n"
     ]
    }
   ],
   "source": [
    "for i in l :\n",
    "    print(type(i))"
   ]
  },
  {
   "cell_type": "code",
   "execution_count": 13,
   "id": "a8507610-2b14-46ef-9d10-36ee330f9284",
   "metadata": {},
   "outputs": [],
   "source": [
    "# Q.5] Usingh a while loop verify if the number A is purely divisible by number B and if so then how many times it can be divisible."
   ]
  },
  {
   "cell_type": "code",
   "execution_count": 3,
   "id": "2cfde347-746d-4b2e-8240-f7b59cc951d8",
   "metadata": {},
   "outputs": [
    {
     "name": "stdin",
     "output_type": "stream",
     "text": [
      "Enter the value of A: 90\n",
      "Enter the value of B: 6\n"
     ]
    },
    {
     "name": "stdout",
     "output_type": "stream",
     "text": [
      "90 is divisible by 6 and can be divided 15 times\n"
     ]
    }
   ],
   "source": [
    "A=int(input(\"Enter the value of A:\"))\n",
    "B=int(input(\"Enter the value of B:\"))\n",
    "while A%B == 0 :\n",
    "    C = int(A/B)\n",
    "    print(f\"{A} is divisible by {B} and can be divided {C} times\")\n",
    "    break\n",
    "else:\n",
    "    print(\"{A} is not Divisible by {B}\") \n",
    "\n"
   ]
  },
  {
   "cell_type": "code",
   "execution_count": 5,
   "id": "5686a080-75dd-4031-97f2-5d4416ccf6df",
   "metadata": {},
   "outputs": [],
   "source": [
    "#Q.6  Create a list containing 25 int type data. Using for loop and if-else condition print if the element is divisible by 3 or not"
   ]
  },
  {
   "cell_type": "code",
   "execution_count": 7,
   "id": "83edfda7-556f-435a-a230-79f905e50e6e",
   "metadata": {},
   "outputs": [
    {
     "name": "stdout",
     "output_type": "stream",
     "text": [
      "10 is not divisible by 3:\n",
      "12 is divisible by 3:\n",
      "18 is divisible by 3:\n",
      "25 is not divisible by 3:\n",
      "33 is divisible by 3:\n",
      "42 is divisible by 3:\n",
      "56 is not divisible by 3:\n",
      "61 is not divisible by 3:\n",
      "72 is divisible by 3:\n",
      "81 is divisible by 3:\n",
      "94 is not divisible by 3:\n",
      "120 is divisible by 3:\n",
      "117 is divisible by 3:\n",
      "122 is not divisible by 3:\n",
      "166 is not divisible by 3:\n",
      "14 is not divisible by 3:\n",
      "158 is not divisible by 3:\n",
      "165 is divisible by 3:\n",
      "178 is not divisible by 3:\n",
      "183 is divisible by 3:\n",
      "197 is not divisible by 3:\n",
      "330 is divisible by 3:\n",
      "300 is divisible by 3:\n",
      "224 is not divisible by 3:\n",
      "200 is not divisible by 3:\n"
     ]
    }
   ],
   "source": [
    "int_list = [10, 12, 18, 25, 33, 42, 56, 61, 72, 81, 94, 120, 117, 122, 166, 14, 158, 165, 178, 183, 197, 330, 300, 224, 200]\n",
    "for element in int_list:\n",
    "    if element % 3 == 0:\n",
    "        print(f\"{element} is divisible by 3:\")\n",
    "    else:\n",
    "        print(f\"{element} is not divisible by 3:\")\n"
   ]
  },
  {
   "cell_type": "code",
   "execution_count": 8,
   "id": "4020dd93-372a-49c5-b2eb-2203cda39225",
   "metadata": {},
   "outputs": [],
   "source": [
    "#Q7. What do you understand about mutable and immutable data types? Give examples for both showing this property."
   ]
  },
  {
   "cell_type": "code",
   "execution_count": 2,
   "id": "00491b37-7644-4850-af9f-3411fcd7e869",
   "metadata": {},
   "outputs": [],
   "source": [
    "#Mutable: we can change the data in mutable object.it is known as list MUTATE is not allowed\n",
    "        #example:"
   ]
  },
  {
   "cell_type": "code",
   "execution_count": 10,
   "id": "093d005d-75a0-464b-b479-45f6f8b13f4a",
   "metadata": {},
   "outputs": [
    {
     "data": {
      "text/plain": [
       "[2, 3, 4, 5, 6, 7, 8, 'rosh', (3+7j), True, 20.3]"
      ]
     },
     "execution_count": 10,
     "metadata": {},
     "output_type": "execute_result"
    }
   ],
   "source": [
    "[2,3,4,5,6,7,8,'rosh',(3+7j),True,20.3]"
   ]
  },
  {
   "cell_type": "code",
   "execution_count": 14,
   "id": "77798159-5643-4da5-ac3f-e23a41633cf8",
   "metadata": {},
   "outputs": [],
   "source": [
    "l[1]=300"
   ]
  },
  {
   "cell_type": "code",
   "execution_count": 17,
   "id": "1c4d6403-4b7f-4c96-b303-4bbe11eb7ae1",
   "metadata": {},
   "outputs": [
    {
     "data": {
      "text/plain": [
       "[2, 300, 4, 5, 6, 7, 8, 'rosh', (3+7j), True, 20.3]"
      ]
     },
     "execution_count": 17,
     "metadata": {},
     "output_type": "execute_result"
    }
   ],
   "source": [
    "l"
   ]
  },
  {
   "cell_type": "code",
   "execution_count": 18,
   "id": "502fcfbb-208f-4364-aafd-d82589dca2ab",
   "metadata": {},
   "outputs": [],
   "source": [
    "#IMUTABLE : String object does not support item Assignment. in this mutate is not aalowed.\n",
    "     #Example:"
   ]
  },
  {
   "cell_type": "code",
   "execution_count": 23,
   "id": "7322c064-42b1-4ad2-badf-533387521146",
   "metadata": {},
   "outputs": [],
   "source": [
    "p=\"Data\""
   ]
  },
  {
   "cell_type": "code",
   "execution_count": 22,
   "id": "cddf4798-b73c-4c9d-b83a-9bebac0e215d",
   "metadata": {},
   "outputs": [
    {
     "ename": "NameError",
     "evalue": "name 'p' is not defined",
     "output_type": "error",
     "traceback": [
      "\u001b[0;31m---------------------------------------------------------------------------\u001b[0m",
      "\u001b[0;31mNameError\u001b[0m                                 Traceback (most recent call last)",
      "Cell \u001b[0;32mIn[22], line 1\u001b[0m\n\u001b[0;32m----> 1\u001b[0m \u001b[43mp\u001b[49m[\u001b[38;5;241m1\u001b[39m]\u001b[38;5;241m=\u001b[39m\u001b[38;5;124m\"\u001b[39m\u001b[38;5;124mS\u001b[39m\u001b[38;5;124m\"\u001b[39m\n",
      "\u001b[0;31mNameError\u001b[0m: name 'p' is not defined"
     ]
    }
   ],
   "source": [
    "p[1]=\"S\""
   ]
  }
 ],
 "metadata": {
  "kernelspec": {
   "display_name": "Python 3 (ipykernel)",
   "language": "python",
   "name": "python3"
  },
  "language_info": {
   "codemirror_mode": {
    "name": "ipython",
    "version": 3
   },
   "file_extension": ".py",
   "mimetype": "text/x-python",
   "name": "python",
   "nbconvert_exporter": "python",
   "pygments_lexer": "ipython3",
   "version": "3.10.8"
  }
 },
 "nbformat": 4,
 "nbformat_minor": 5
}
